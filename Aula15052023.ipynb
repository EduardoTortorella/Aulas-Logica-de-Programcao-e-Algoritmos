{
  "nbformat": 4,
  "nbformat_minor": 0,
  "metadata": {
    "colab": {
      "provenance": [],
      "authorship_tag": "ABX9TyMpuheAGTnMsrFVDLPQr8HB",
      "include_colab_link": true
    },
    "kernelspec": {
      "name": "python3",
      "display_name": "Python 3"
    },
    "language_info": {
      "name": "python"
    }
  },
  "cells": [
    {
      "cell_type": "markdown",
      "metadata": {
        "id": "view-in-github",
        "colab_type": "text"
      },
      "source": [
        "<a href=\"https://colab.research.google.com/github/EduardoTortorella/Aulas-Logica-de-Programcao-e-Algoritmos/blob/main/Aula15052023.ipynb\" target=\"_parent\"><img src=\"https://colab.research.google.com/assets/colab-badge.svg\" alt=\"Open In Colab\"/></a>"
      ]
    },
    {
      "cell_type": "markdown",
      "source": [
        "TUPLAS - Uma tupla é uma coleção ordenada e imutável de elementos em Python."
      ],
      "metadata": {
        "id": "Nz9mAt-VUuzx"
      }
    },
    {
      "cell_type": "code",
      "execution_count": null,
      "metadata": {
        "id": "1aNQHRYaUqoQ"
      },
      "outputs": [],
      "source": [
        "tp_frutas = ('maçã', 'banana', 'laranja', 'goiaba')\n",
        "tp_frutas"
      ]
    },
    {
      "cell_type": "code",
      "source": [
        "lst_frutas = list(tp_frutas)\n",
        "type(lst_frutas)\n",
        "lst_frutas"
      ],
      "metadata": {
        "id": "VOWUdhJ2VJ0l"
      },
      "execution_count": null,
      "outputs": []
    },
    {
      "cell_type": "code",
      "source": [
        "tpMeses = ('jan', 'fev', 'mar', 'abr', 'mai', 'jun', 'jul', 'ago', 'set', 'out', 'nov', 'dez')\n",
        "tpMeses[3:6]"
      ],
      "metadata": {
        "id": "0ap6kEoLZ0hs"
      },
      "execution_count": null,
      "outputs": []
    },
    {
      "cell_type": "code",
      "source": [
        "coord = (-7.11532, -34.861) #João Pessoa"
      ],
      "metadata": {
        "id": "KDH4k1oWa4Sl"
      },
      "execution_count": null,
      "outputs": []
    },
    {
      "cell_type": "code",
      "source": [
        "ufCod = [('PE', 81), ('RJ', 21), ('SP', 11), ('PB', 83)]\n",
        "\n",
        "sorted(ufCod) # assim lista pelo alfabetico do estado...\n",
        "#sorted(ufCod, key = lambda x : x[1]) # assim lista crescent pelo DDD..."
      ],
      "metadata": {
        "colab": {
          "base_uri": "https://localhost:8080/"
        },
        "id": "i-pje39ScEEk",
        "outputId": "5c030703-570a-46bb-bd40-fa216461e5c0"
      },
      "execution_count": null,
      "outputs": [
        {
          "output_type": "execute_result",
          "data": {
            "text/plain": [
              "[('PB', 83), ('PE', 81), ('RJ', 21), ('SP', 11)]"
            ]
          },
          "metadata": {},
          "execution_count": 8
        }
      ]
    },
    {
      "cell_type": "code",
      "source": [
        "nome_nasc = [('zé', 2003), ('maria', 1998), ('alice', 2000)] #classificar do mais novo para o mais velho\n",
        "sorted(nome_nasc, key = lambda x: x[1], reverse = True)"
      ],
      "metadata": {
        "colab": {
          "base_uri": "https://localhost:8080/"
        },
        "id": "RKSb7IrJfYSe",
        "outputId": "ff0a660d-4f33-44b4-a1df-d0ea7ed107db"
      },
      "execution_count": null,
      "outputs": [
        {
          "output_type": "execute_result",
          "data": {
            "text/plain": [
              "[('zé', 2003), ('alice', 2000), ('maria', 1998)]"
            ]
          },
          "metadata": {},
          "execution_count": 9
        }
      ]
    },
    {
      "cell_type": "code",
      "source": [
        "#desempacotamento de dados\n",
        "\n",
        "def nome_idade_uf():\n",
        "  nome = \"Eduardo\"\n",
        "  idade = 31\n",
        "  uf = 'PB'\n",
        "  return nome, idade, uf\n",
        "\n",
        "name, age, uf = nome_idade_uf()\n",
        "\n",
        "\n",
        "print(name, age, uf) "
      ],
      "metadata": {
        "colab": {
          "base_uri": "https://localhost:8080/"
        },
        "id": "EvPF60hGlc12",
        "outputId": "5912251a-3cb9-410a-c77a-2f53ace618a7"
      },
      "execution_count": null,
      "outputs": [
        {
          "output_type": "stream",
          "name": "stdout",
          "text": [
            "Eduardo 31 PB\n"
          ]
        }
      ]
    },
    {
      "cell_type": "code",
      "source": [
        "#mapeamento de valores\n",
        "\n",
        "alunos = ('Kelly', 'Adauto', 'Marceline', 'Luana', 'Henrique')\n",
        "notas = (5.5, 8, 9, 7.5, 6.5)\n",
        "\n",
        "Av1 = tuple(zip(alunos, notas))\n",
        "\n",
        "Av1"
      ],
      "metadata": {
        "id": "b1nhhuvsntV7"
      },
      "execution_count": null,
      "outputs": []
    },
    {
      "cell_type": "code",
      "source": [
        "#escrever uma funcao que contenha nome e endereco \n",
        "#duas tuplas\n",
        "\n",
        "nome2 = ('Marcos', 'Kelly', 'Adauto', 'Marceline', 'Luana', 'Henrique')\n",
        "idade2 = (21, 55, 12, 43, 22, 7)\n",
        "endereco2 = ('joakim schuller', 'epitacio pessoa', 'ruy carneiro', 'esperança', 'monteiro da franca', 'evelino f')\n",
        "\n",
        "nomeId = tuple(zip(nome, idade2))\n",
        "nomeId\n",
        "\n",
        "\n",
        "\n"
      ],
      "metadata": {
        "id": "pdVjsKebqbtn"
      },
      "execution_count": null,
      "outputs": []
    },
    {
      "cell_type": "markdown",
      "source": [
        "enunciado."
      ],
      "metadata": {
        "id": "BeVaCKJbu964"
      }
    },
    {
      "cell_type": "code",
      "source": [
        "def nomeId2(tp1, tp2):\n",
        "  return tp1 + tp2\n",
        "\n",
        "a = ('Marcos', 'Kelly', 'Adauto', 'Marceline', 'Luana', 'Henrique')\n",
        "b = (21, 55, 12, 43, 22, 7)\n",
        "\n",
        "nomeId2(a,b)"
      ],
      "metadata": {
        "id": "QYAR66o8t7-m"
      },
      "execution_count": null,
      "outputs": []
    },
    {
      "cell_type": "markdown",
      "source": [
        "enunciado"
      ],
      "metadata": {
        "id": "ScdIFkPBvKH7"
      }
    },
    {
      "cell_type": "code",
      "source": [
        "def formatada(tupla):\n",
        "  nome, logradouro, num, bairro = tupla\n",
        "  return f'Nome: {nome}, residente a {logradouro}, {num}, {bairro}.'\n",
        "\n",
        "dadosCliente = ('Marcos', 'Rua das Ostras', '42', 'Bessa')\n",
        "\n",
        "print (formatada(dadosCliente))"
      ],
      "metadata": {
        "colab": {
          "base_uri": "https://localhost:8080/"
        },
        "id": "SkBlcWJNu8UL",
        "outputId": "bf3751bd-b84b-4e93-87e8-27719816c6fe"
      },
      "execution_count": 26,
      "outputs": [
        {
          "output_type": "stream",
          "name": "stdout",
          "text": [
            "Nome: Marcos, residente a Rua das Ostras, 42, Bessa.\n"
          ]
        }
      ]
    },
    {
      "cell_type": "code",
      "source": [],
      "metadata": {
        "id": "GWBiBEKitzH6"
      },
      "execution_count": null,
      "outputs": []
    }
  ]
}