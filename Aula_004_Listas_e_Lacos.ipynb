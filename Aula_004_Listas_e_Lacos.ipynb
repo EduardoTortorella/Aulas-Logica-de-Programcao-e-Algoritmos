{
  "nbformat": 4,
  "nbformat_minor": 0,
  "metadata": {
    "colab": {
      "provenance": [],
      "authorship_tag": "ABX9TyMgbkLBpRbJGtpy6TJeqdhr",
      "include_colab_link": true
    },
    "kernelspec": {
      "name": "python3",
      "display_name": "Python 3"
    },
    "language_info": {
      "name": "python"
    }
  },
  "cells": [
    {
      "cell_type": "markdown",
      "metadata": {
        "id": "view-in-github",
        "colab_type": "text"
      },
      "source": [
        "<a href=\"https://colab.research.google.com/github/ramonparaiba/Aulas-Logica-de-Programcao-e-Algoritmos/blob/main/Aula004_Listas_e_Lacos.ipynb\" target=\"_parent\"><img src=\"https://colab.research.google.com/assets/colab-badge.svg\" alt=\"Open In Colab\"/></a>"
      ]
    },
    {
      "cell_type": "markdown",
      "source": [
        "# Listas"
      ],
      "metadata": {
        "id": "C6IfPVrWyScY"
      }
    },
    {
      "cell_type": "code",
      "source": [
        "#Listas são estruturas de dados formadas por elementos de um mesmo tipo\n",
        "num = [1, 4, 3, 6, 9]"
      ],
      "metadata": {
        "id": "TypIylFnoAkl"
      },
      "execution_count": null,
      "outputs": []
    },
    {
      "cell_type": "code",
      "source": [
        "#tamanho de uma lista\n",
        "len(num)"
      ],
      "metadata": {
        "colab": {
          "base_uri": "https://localhost:8080/"
        },
        "id": "YIN0E22joAuK",
        "outputId": "7cf47116-3b80-4a33-9ee9-ca567074b778"
      },
      "execution_count": 4,
      "outputs": [
        {
          "output_type": "execute_result",
          "data": {
            "text/plain": [
              "5"
            ]
          },
          "metadata": {},
          "execution_count": 4
        }
      ]
    },
    {
      "cell_type": "code",
      "source": [
        "#A ordenação das listas têm índice que inicia em 0, e vai até o tamanho da lista menos 1\n",
        "print(num[0]) #Primeiro ítem da lista\n",
        "print(num[1])\n",
        "print(num[2])\n",
        "print(num[3])\n",
        "print(num[4])\n",
        "print(num[5]) #Fora do índice"
      ],
      "metadata": {
        "id": "qblM7OsgoArL"
      },
      "execution_count": null,
      "outputs": []
    },
    {
      "cell_type": "code",
      "source": [
        "#listas de outros tipos\n",
        "alunos = ['Mariana', 'Luiz', 'Higor', 'Enzo', 'Valentina']"
      ],
      "metadata": {
        "id": "g7r_7nZZpMA_"
      },
      "execution_count": null,
      "outputs": []
    },
    {
      "cell_type": "code",
      "source": [
        "#Criação de lista\n",
        "frutas = ('manga mamão açaí graviola laranja').split()\n",
        "frutas"
      ],
      "metadata": {
        "id": "TeFeO3YvzY30"
      },
      "execution_count": null,
      "outputs": []
    },
    {
      "cell_type": "code",
      "source": [],
      "metadata": {
        "id": "sQ7oCfNItfW0"
      },
      "execution_count": null,
      "outputs": []
    },
    {
      "cell_type": "markdown",
      "source": [
        "#Problemática \n",
        "* Escrever sequências muito grandes"
      ],
      "metadata": {
        "id": "1qyAIuVKxf5J"
      }
    },
    {
      "cell_type": "code",
      "execution_count": 1,
      "metadata": {
        "colab": {
          "base_uri": "https://localhost:8080/"
        },
        "id": "ygVSpA9axbmc",
        "outputId": "c9040c68-9890-4f39-a48f-ffe3eeb244a3"
      },
      "outputs": [
        {
          "output_type": "stream",
          "name": "stdout",
          "text": [
            "0\n",
            "1\n",
            "2\n",
            "3\n"
          ]
        }
      ],
      "source": [
        "for i in range(4):\n",
        "  print(i)"
      ]
    }
  ]
}
