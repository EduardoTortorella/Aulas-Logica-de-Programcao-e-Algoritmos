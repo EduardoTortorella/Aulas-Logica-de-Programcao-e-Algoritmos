{
  "nbformat": 4,
  "nbformat_minor": 0,
  "metadata": {
    "colab": {
      "provenance": [],
      "authorship_tag": "ABX9TyNXtgGXFEMDOHAV4woulizS",
      "include_colab_link": true
    },
    "kernelspec": {
      "name": "python3",
      "display_name": "Python 3"
    },
    "language_info": {
      "name": "python"
    }
  },
  "cells": [
    {
      "cell_type": "markdown",
      "metadata": {
        "id": "view-in-github",
        "colab_type": "text"
      },
      "source": [
        "<a href=\"https://colab.research.google.com/github/ramonparaiba/Aulas-Logica-de-Programcao-e-Algoritmos/blob/main/Aula_004_Listas_e_Lacos.ipynb\" target=\"_parent\"><img src=\"https://colab.research.google.com/assets/colab-badge.svg\" alt=\"Open In Colab\"/></a>"
      ]
    },
    {
      "cell_type": "markdown",
      "source": [
        "# Listas"
      ],
      "metadata": {
        "id": "C6IfPVrWyScY"
      }
    },
    {
      "cell_type": "code",
      "source": [
        "#Listas são estruturas de dados formadas por elementos de um mesmo tipo\n",
        "num = [1, 4, 3, 6, 9]"
      ],
      "metadata": {
        "id": "TypIylFnoAkl"
      },
      "execution_count": null,
      "outputs": []
    },
    {
      "cell_type": "code",
      "source": [
        "#tamanho de uma lista\n",
        "len(num)"
      ],
      "metadata": {
        "colab": {
          "base_uri": "https://localhost:8080/"
        },
        "id": "YIN0E22joAuK",
        "outputId": "7cf47116-3b80-4a33-9ee9-ca567074b778"
      },
      "execution_count": 4,
      "outputs": [
        {
          "output_type": "execute_result",
          "data": {
            "text/plain": [
              "5"
            ]
          },
          "metadata": {},
          "execution_count": 4
        }
      ]
    },
    {
      "cell_type": "code",
      "source": [
        "#A ordenação das listas têm índice que inicia em 0, e vai até o tamanho da lista menos 1\n",
        "print(num[0]) #Primeiro ítem da lista\n",
        "print(num[1])\n",
        "print(num[2])\n",
        "print(num[3])\n",
        "print(num[4])\n",
        "print(num[5]) #Fora do índice"
      ],
      "metadata": {
        "id": "qblM7OsgoArL"
      },
      "execution_count": null,
      "outputs": []
    },
    {
      "cell_type": "code",
      "source": [
        "lista_de_compras = []"
      ],
      "metadata": {
        "id": "A7nSVMsZnUkh"
      },
      "execution_count": null,
      "outputs": []
    },
    {
      "cell_type": "code",
      "source": [
        "#listas de outros tipos\n",
        "alunos = ['Mariana', 'Luiz', 'Higor', 'Enzo', 'Valentina']"
      ],
      "metadata": {
        "id": "g7r_7nZZpMA_"
      },
      "execution_count": 22,
      "outputs": []
    },
    {
      "cell_type": "code",
      "source": [
        "#alterar o valores de ítens de lista\n",
        "alunos[3] = 'Ivan'"
      ],
      "metadata": {
        "id": "ADe8qqc6nnSv"
      },
      "execution_count": null,
      "outputs": []
    },
    {
      "cell_type": "code",
      "source": [
        "#inserir valores na lista .append()\n",
        "alunos.append('Alex')"
      ],
      "metadata": {
        "id": "bDjrZAe5n7hn"
      },
      "execution_count": null,
      "outputs": []
    },
    {
      "cell_type": "code",
      "source": [
        "#Descobrir se há um valor determinado na lista, exibir sua posição na lista\n",
        "if 'Luiz' in alunos:\n",
        "  print('Tem luiz SIIM')\n",
        "  print(alunos.index('Luiz'))"
      ],
      "metadata": {
        "colab": {
          "base_uri": "https://localhost:8080/"
        },
        "id": "nJDduZtfoKUu",
        "outputId": "76f8f7c8-8d3f-4799-c5dd-3976726bd833"
      },
      "execution_count": 23,
      "outputs": [
        {
          "output_type": "stream",
          "name": "stdout",
          "text": [
            "Tem luiz SIIM\n",
            "1\n"
          ]
        }
      ]
    },
    {
      "cell_type": "code",
      "source": [
        "#deletar um item específico da lista de compras\n",
        "del alunos[0]"
      ],
      "metadata": {
        "id": "kX_uAk5Jop_Y"
      },
      "execution_count": null,
      "outputs": []
    },
    {
      "cell_type": "markdown",
      "source": [
        "Exercícios. \n",
        "1. Crie uma lista contendo 5 atores ou atrizes\n",
        "2. Faça uma busca nessa lista, e verifique se há um determinado nome na lista. Notifique se há ou não o nome na lista\n",
        "3. Modifique o código criado no item anterior, para que, além de verificar se há o nome na lista, deletar o registro do nome digitado."
      ],
      "metadata": {
        "id": "XNj0dT0SpCXb"
      }
    },
    {
      "cell_type": "markdown",
      "source": [
        "#Laço for"
      ],
      "metadata": {
        "id": "1qyAIuVKxf5J"
      }
    },
    {
      "cell_type": "code",
      "source": [
        "#Criar uma lista com números de 1 a 15\n",
        "numeros = []\n",
        "for num in range(15):\n",
        "  numeros.append(num)"
      ],
      "metadata": {
        "id": "T0Mu0NK7vQ_R"
      },
      "execution_count": null,
      "outputs": []
    },
    {
      "cell_type": "code",
      "source": [
        "#criar uma nova lista chamada dobro\n",
        "#Dobro recebe os elementos da lista numeros, cada um multiplicado por 2\n",
        "dobro = []\n",
        "for num in numeros:\n",
        "  dobro.append(num * 2) \n",
        "dobro"
      ],
      "metadata": {
        "id": "WdYmg7FCwGJ6"
      },
      "execution_count": null,
      "outputs": []
    },
    {
      "cell_type": "code",
      "source": [
        "#Exercicio\n",
        "## Crie uma lista chamada notas, que receba 5 notas de alunos de uma turma"
      ],
      "metadata": {
        "id": "lzA45aiewypn"
      },
      "execution_count": null,
      "outputs": []
    },
    {
      "cell_type": "code",
      "source": [
        "jogos = ['Mario', 'Sonic', 'God of War', 'The Last of Us', 'Tetris']"
      ],
      "metadata": {
        "id": "sQ7oCfNItfW0"
      },
      "execution_count": null,
      "outputs": []
    },
    {
      "cell_type": "code",
      "source": [
        "#imprimir os elementos de uma lista\n",
        "for jogo in jogos:\n",
        "  print(jogo)\n"
      ],
      "metadata": {
        "id": "4aKJucNzuvF2"
      },
      "execution_count": null,
      "outputs": []
    },
    {
      "cell_type": "code",
      "source": [
        "# crie um código que insere novos títulos a lista jogos"
      ],
      "metadata": {
        "id": "Cr__PsZWE2ax"
      },
      "execution_count": null,
      "outputs": []
    },
    {
      "cell_type": "markdown",
      "source": [
        "#Laço While"
      ],
      "metadata": {
        "id": "FHM7uecT2tpp"
      }
    },
    {
      "cell_type": "code",
      "source": [
        "#Criar um programa que lista os números de 1 a 10\n",
        "##Precisamos de um contador!\n",
        "cont = 0\n",
        "\n",
        "while (cont < 10):\n",
        "  print(cont +1)\n",
        "  cont+=1"
      ],
      "metadata": {
        "id": "yOyiQ_2rtsK9"
      },
      "execution_count": null,
      "outputs": []
    },
    {
      "cell_type": "code",
      "source": [
        "#Pede ao usuário para inserir um número inteiro maior que 1\n",
        "#O programa deve imprimir todos os números até o número digitado.\n",
        "cont = 0\n",
        "num = int(input('insira um número '))\n",
        "while (cont <= num):\n",
        "  print(cont)\n",
        "  cont+=1"
      ],
      "metadata": {
        "id": "cDkznQIP4Caq"
      },
      "execution_count": null,
      "outputs": []
    },
    {
      "cell_type": "code",
      "source": [
        "#Modifique o código anterior para que imprima apenas os números pares do intervalo"
      ],
      "metadata": {
        "id": "oAVTJ2dB46yf"
      },
      "execution_count": null,
      "outputs": []
    },
    {
      "cell_type": "code",
      "source": [
        "#Retorna a soma de todos os números entre 1 e 100"
      ],
      "metadata": {
        "id": "J6EerHuW4fpd"
      },
      "execution_count": 78,
      "outputs": []
    },
    {
      "cell_type": "code",
      "source": [
        "#Pede a senha do usuário. E dá 5 chances para o usuário inserir a senha correta."
      ],
      "metadata": {
        "id": "DeEWIdAm5FQJ"
      },
      "execution_count": null,
      "outputs": []
    },
    {
      "cell_type": "code",
      "source": [
        "#Altere o código anterior e insira o seguinte critério:\n",
        "#Caso terminem as 5 chances de inserir a senha, o programa deve informar \"tentativas excedidas!\""
      ],
      "metadata": {
        "id": "8GZ4XcJP5O9H"
      },
      "execution_count": null,
      "outputs": []
    }
  ]
}