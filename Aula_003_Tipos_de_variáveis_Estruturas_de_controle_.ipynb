{
  "nbformat": 4,
  "nbformat_minor": 0,
  "metadata": {
    "colab": {
      "provenance": [],
      "collapsed_sections": [
        "XiT7Qr0f9sCd"
      ],
      "authorship_tag": "ABX9TyO4pmKdEH+hkcy6c/UDjiTE",
      "include_colab_link": true
    },
    "kernelspec": {
      "name": "python3",
      "display_name": "Python 3"
    },
    "language_info": {
      "name": "python"
    }
  },
  "cells": [
    {
      "cell_type": "markdown",
      "metadata": {
        "id": "view-in-github",
        "colab_type": "text"
      },
      "source": [
        "<a href=\"https://colab.research.google.com/github/ramonparaiba/Aulas-Logica-de-Programcao-e-Algoritmos/blob/main/Aula_003_Tipos_de_vari%C3%A1veis_Estruturas_de_controle_.ipynb\" target=\"_parent\"><img src=\"https://colab.research.google.com/assets/colab-badge.svg\" alt=\"Open In Colab\"/></a>"
      ]
    },
    {
      "cell_type": "markdown",
      "source": [
        "Tipos de Variáveis"
      ],
      "metadata": {
        "id": "fU4pBcZtvcdE"
      }
    },
    {
      "cell_type": "code",
      "execution_count": null,
      "metadata": {
        "colab": {
          "base_uri": "https://localhost:8080/"
        },
        "id": "uW_kTOydvT-I",
        "outputId": "dd7387e4-3b6d-4c3a-99d6-7d752ab72e02"
      },
      "outputs": [
        {
          "name": "stdout",
          "output_type": "stream",
          "text": [
            "Insira o seu peso85\n"
          ]
        }
      ],
      "source": [
        "idade = 25\n",
        "peso = 85.0\n",
        "nome = 'Luiz'\n",
        "testeIdade = idade > 20"
      ]
    },
    {
      "cell_type": "code",
      "source": [
        "#Type(variável)"
      ],
      "metadata": {
        "id": "yYXv4voGv_aa"
      },
      "execution_count": null,
      "outputs": []
    },
    {
      "cell_type": "markdown",
      "source": [
        "Input de valores"
      ],
      "metadata": {
        "id": "MFAD3899wwDu"
      }
    },
    {
      "cell_type": "code",
      "source": [
        "nome = input('Digite seu nome')"
      ],
      "metadata": {
        "id": "GtofZQ1-wngs"
      },
      "execution_count": null,
      "outputs": []
    },
    {
      "cell_type": "code",
      "source": [
        "signo = input('Digite seu signo')"
      ],
      "metadata": {
        "id": "M4jhQOMtw6nE"
      },
      "execution_count": null,
      "outputs": []
    },
    {
      "cell_type": "code",
      "source": [
        "print(f'Olá, {nome}. Seu signo é {signo}?')"
      ],
      "metadata": {
        "id": "swyRxNatw6p7"
      },
      "execution_count": null,
      "outputs": []
    },
    {
      "cell_type": "markdown",
      "source": [
        "Alterar Tipo de variável"
      ],
      "metadata": {
        "id": "hkWKCb-UyEU6"
      }
    },
    {
      "cell_type": "code",
      "source": [
        "peso = input('Digite seu peso! ')"
      ],
      "metadata": {
        "id": "slmY5Gsiw6sc"
      },
      "execution_count": null,
      "outputs": []
    },
    {
      "cell_type": "code",
      "source": [
        "altura = input('Digite a altura! ')"
      ],
      "metadata": {
        "id": "ATfJeyAjw6u7"
      },
      "execution_count": null,
      "outputs": []
    },
    {
      "cell_type": "code",
      "source": [
        "#Cálculo do IMC  peso/altura^2\n",
        "imc = peso / (altura*altura)"
      ],
      "metadata": {
        "id": "HgQgAUqFw6xj"
      },
      "execution_count": null,
      "outputs": []
    },
    {
      "cell_type": "markdown",
      "source": [
        "# **Parse**"
      ],
      "metadata": {
        "id": "tPw9flfuz3pV"
      }
    },
    {
      "cell_type": "code",
      "source": [
        "peso = float(input('Digite seu peso! '))\n",
        "altura = float(input('Digite suas altura! '))"
      ],
      "metadata": {
        "id": "OOND4kdTz78K"
      },
      "execution_count": null,
      "outputs": []
    },
    {
      "cell_type": "code",
      "source": [
        "#Cálculo do IMC  peso/altura^2\n",
        "imc = peso / (altura*altura)\n",
        "print(f'seu imc é: {imc:,.2f}')"
      ],
      "metadata": {
        "id": "N3Xo-uDL0aRI"
      },
      "execution_count": null,
      "outputs": []
    },
    {
      "cell_type": "markdown",
      "source": [
        "Exercícios\n",
        "* 1 - Peça ao usuário para inserir 3 notas do tipo float, ao final escreva qual foi a média do aluno.\n",
        "* 2 - Solicite ao usuário que insira sua idade. Então, o software deve calcular em que ano você nasceu.\n",
        "\n"
      ],
      "metadata": {
        "id": "yj2eiJ5V1XTc"
      }
    },
    {
      "cell_type": "markdown",
      "source": [
        "\n",
        "#Estruturas de Controle\n",
        "\n"
      ],
      "metadata": {
        "id": "nRBIwqq03ZPx"
      }
    },
    {
      "cell_type": "code",
      "source": [
        "#Verifica a idade, caso seja maior que 16, avisa que pode tirar carteira de motorista\n",
        "idade = 20\n",
        "if(idade > 16):\n",
        "  print('Pode tirar carteira de motorista')"
      ],
      "metadata": {
        "id": "twKJlPhO3Xfp"
      },
      "execution_count": null,
      "outputs": []
    },
    {
      "cell_type": "code",
      "source": [
        "#Pede para o usuário digitar a média. Se for maior que 7, retorna \"Parabéns, você passou!\"\n",
        "media = float(input('insira a média!'))\n",
        "if (media > 7):\n",
        "  print('Parabéns, você passou!')"
      ],
      "metadata": {
        "id": "MNpsTaUO4BuH"
      },
      "execution_count": null,
      "outputs": []
    },
    {
      "cell_type": "markdown",
      "source": [
        "Else"
      ],
      "metadata": {
        "id": "vMWwrl5G8Mxf"
      }
    },
    {
      "cell_type": "code",
      "source": [
        "#Alterar o exemplo anterior para dizer que, caso a média seja menor que 7, \"Você está em recuperação\"\n",
        "media = float(input('insira a média!'))\n",
        "if (media > 7):\n",
        "  print('Parabéns, você passou!')\n",
        "else:\n",
        "  print('Você está em recuperação!')"
      ],
      "metadata": {
        "id": "NwCTeaIY8Ouc"
      },
      "execution_count": null,
      "outputs": []
    },
    {
      "cell_type": "markdown",
      "source": [
        "Elif"
      ],
      "metadata": {
        "id": "uxdLKBf28qUa"
      }
    },
    {
      "cell_type": "markdown",
      "source": [
        "##Ajustar para três condições.\n",
        "* Caso o usuário tenha média maior ou igual a 7, \"passou\"\n",
        "* Média menor que 7 mas, maior ou igual a 4, \"está em recuperação\"\n",
        "* Média inferior a 4, \"está reprovado\""
      ],
      "metadata": {
        "id": "XiT7Qr0f9sCd"
      }
    },
    {
      "cell_type": "code",
      "source": [
        "media = float(input('insira a média!'))\n",
        "if(media < 4):\n",
        "  print('Reprovado')\n",
        "elif(media < 7):\n",
        "  print('Em recuperação')\n",
        "else:\n",
        "  print('Passou, mizerave!')"
      ],
      "metadata": {
        "colab": {
          "base_uri": "https://localhost:8080/"
        },
        "id": "rt4z1vdi8rXO",
        "outputId": "bb492017-bb26-486c-f349-0b187647fa90"
      },
      "execution_count": null,
      "outputs": [
        {
          "output_type": "stream",
          "name": "stdout",
          "text": [
            "insira a média!3.5\n",
            "Reprovado\n"
          ]
        }
      ]
    }
  ]
}