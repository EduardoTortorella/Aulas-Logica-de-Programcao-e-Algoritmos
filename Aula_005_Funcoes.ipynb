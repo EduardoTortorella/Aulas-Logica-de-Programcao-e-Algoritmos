{
  "nbformat": 4,
  "nbformat_minor": 0,
  "metadata": {
    "colab": {
      "provenance": [],
      "authorship_tag": "ABX9TyPRUcMbjehTw0vODZI4G1vY",
      "include_colab_link": true
    },
    "kernelspec": {
      "name": "python3",
      "display_name": "Python 3"
    },
    "language_info": {
      "name": "python"
    }
  },
  "cells": [
    {
      "cell_type": "markdown",
      "metadata": {
        "id": "view-in-github",
        "colab_type": "text"
      },
      "source": [
        "<a href=\"https://colab.research.google.com/github/ramonparaiba/Aulas-Logica-de-Programcao-e-Algoritmos/blob/main/Aula_005_Funcoes.ipynb\" target=\"_parent\"><img src=\"https://colab.research.google.com/assets/colab-badge.svg\" alt=\"Open In Colab\"/></a>"
      ]
    },
    {
      "cell_type": "markdown",
      "source": [
        "Imagine uma operação de soma entre duas variáveis a e b. Simples não é? Basta somar a + b, e está resolvido. \n",
        "Vamos acrescentar um ponto a este cenário, imagine que há outras variáveis no programa que você está desenvolvendo, as quais também precisam ser somadas. Então, teríamos em seu código algo assim:\n",
        " * //codigo codigo codigo\n",
        " * soma = a + b\n",
        " * //codigo codigo codigo\n",
        " * soma2 = c + d\n",
        " *//codigo codigo codigo\n",
        " * soma3 = n + m\n",
        "\n",
        "\n",
        "> Para evitar essa repetição desnecessária de linhas de programação similares, usa-se estruturas denominadas funções.\n",
        "> Uma função é um trecho de código que só é executado quando é chamado. Uma função pode ter como output, dados ou uma impressão em tela.\n",
        "\n"
      ],
      "metadata": {
        "id": "j4xxc9RJ9Ai5"
      }
    },
    {
      "cell_type": "code",
      "execution_count": null,
      "metadata": {
        "id": "rwCvbb2e8wPk"
      },
      "outputs": [],
      "source": [
        "#Declaração da função\n",
        "def my_first_function():\n",
        "  print('minha primeira função')"
      ]
    },
    {
      "cell_type": "code",
      "source": [
        "#chamando uma função\n",
        "my_first_function()"
      ],
      "metadata": {
        "id": "ga2A-rQp9K_B"
      },
      "execution_count": null,
      "outputs": []
    },
    {
      "cell_type": "markdown",
      "source": [
        "Argumentos / parâmetros"
      ],
      "metadata": {
        "id": "rmUCQHo1_I5Z"
      }
    },
    {
      "cell_type": "code",
      "source": [
        "def pronomeTratam(pronome):\n",
        "  print(pronome + \" Pablo\")"
      ],
      "metadata": {
        "id": "pzr_cfPu_HYk"
      },
      "execution_count": null,
      "outputs": []
    },
    {
      "cell_type": "code",
      "source": [
        "pronomeTratam('Doutor')\n",
        "pronomeTratam('Ilmo')\n",
        "pronomeTratam('Seu')"
      ],
      "metadata": {
        "id": "HFst9FHe_fWN"
      },
      "execution_count": null,
      "outputs": []
    },
    {
      "cell_type": "code",
      "source": [
        "#Uma função deve ser chamada com o número certinho de argumentos\n",
        "def boasVindas(nome, cargo):\n",
        "  print('Olá, '+ cargo + ' '+ nome)"
      ],
      "metadata": {
        "id": "zhJ_uNb8_ydJ"
      },
      "execution_count": null,
      "outputs": []
    },
    {
      "cell_type": "code",
      "source": [
        "boasVindas('Amaralina', 'Engenheira')\n",
        "boasVindas('Jorge', 'Carimbador')\n",
        "boasVindas('Maria', 'Sargento')\n",
        "#Experimente passar apenas um dos parâmetros\n",
        "boasVindas('Lucas')"
      ],
      "metadata": {
        "id": "ZCy4UykvAPs0"
      },
      "execution_count": null,
      "outputs": []
    },
    {
      "cell_type": "code",
      "source": [
        "#Argumentos arbitrários *args \n",
        "#Quando não se tem certeza quantos argumentos são passados pela função\n",
        "\n",
        "def mediaTotal(*notas):\n",
        "  soma = 0\n",
        "  for nota in notas:\n",
        "    soma += nota\n",
        "  media = soma/len(notas)\n",
        "  print('A média é: ', media)"
      ],
      "metadata": {
        "id": "822rPAOkAwm5"
      },
      "execution_count": 5,
      "outputs": []
    },
    {
      "cell_type": "code",
      "source": [
        "mediaTotal(8, 9, 9, 5, 10)"
      ],
      "metadata": {
        "colab": {
          "base_uri": "https://localhost:8080/"
        },
        "id": "iTO5L_azevjo",
        "outputId": "ec090547-fb11-4f29-f6cb-6443603beda5"
      },
      "execution_count": 8,
      "outputs": [
        {
          "output_type": "stream",
          "name": "stdout",
          "text": [
            "A média é:  8.2\n"
          ]
        }
      ]
    }
  ]
}