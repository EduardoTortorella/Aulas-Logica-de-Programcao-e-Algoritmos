{
  "nbformat": 4,
  "nbformat_minor": 0,
  "metadata": {
    "colab": {
      "provenance": [],
      "authorship_tag": "ABX9TyPFlUprGskmf9IhXsnLSu4v",
      "include_colab_link": true
    },
    "kernelspec": {
      "name": "python3",
      "display_name": "Python 3"
    },
    "language_info": {
      "name": "python"
    }
  },
  "cells": [
    {
      "cell_type": "markdown",
      "metadata": {
        "id": "view-in-github",
        "colab_type": "text"
      },
      "source": [
        "<a href=\"https://colab.research.google.com/github/ramonparaiba/Aulas-Logica-de-Programcao-e-Algoritmos/blob/main/Aula_005_Funcoes.ipynb\" target=\"_parent\"><img src=\"https://colab.research.google.com/assets/colab-badge.svg\" alt=\"Open In Colab\"/></a>"
      ]
    },
    {
      "cell_type": "markdown",
      "source": [
        "Imagine uma operação de soma entre duas variáveis a e b. Simples não é? Basta somar a + b, e está resolvido. \n",
        "Vamos acrescentar um ponto a este cenário, imagine que há outras variáveis no programa que você está desenvolvendo, as quais também precisam ser somadas. Então, teríamos em seu código algo assim:\n",
        " * //codigo codigo codigo\n",
        " * soma = a + b\n",
        " * //codigo codigo codigo\n",
        " * soma2 = c + d\n",
        " *//codigo codigo codigo\n",
        " * soma3 = n + m\n",
        "\n",
        "\n",
        "> Para evitar essa repetição desnecessária de linhas de programação similares, usa-se estruturas denominadas funções.\n",
        "> Uma função é um trecho de código que só é executado quando é chamado. Uma função pode ter como output, dados ou uma impressão em tela.\n",
        "\n"
      ],
      "metadata": {
        "id": "j4xxc9RJ9Ai5"
      }
    },
    {
      "cell_type": "code",
      "execution_count": null,
      "metadata": {
        "id": "rwCvbb2e8wPk"
      },
      "outputs": [],
      "source": [
        "#Declaração da função\n",
        "def my_first_function():\n",
        "  print('minha primeira função')"
      ]
    },
    {
      "cell_type": "code",
      "source": [
        "#chamando uma função\n",
        "my_first_function()"
      ],
      "metadata": {
        "id": "ga2A-rQp9K_B"
      },
      "execution_count": null,
      "outputs": []
    },
    {
      "cell_type": "markdown",
      "source": [
        "Argumentos / parâmetros"
      ],
      "metadata": {
        "id": "rmUCQHo1_I5Z"
      }
    },
    {
      "cell_type": "code",
      "source": [
        "def pronomeTratam(pronome):\n",
        "  print(pronome + \" Pablo\")"
      ],
      "metadata": {
        "id": "pzr_cfPu_HYk"
      },
      "execution_count": null,
      "outputs": []
    },
    {
      "cell_type": "code",
      "source": [
        "pronomeTratam('Doutor')\n",
        "pronomeTratam('Ilmo')\n",
        "pronomeTratam('Seu')"
      ],
      "metadata": {
        "id": "HFst9FHe_fWN"
      },
      "execution_count": null,
      "outputs": []
    },
    {
      "cell_type": "code",
      "source": [
        "#Uma função deve ser chamada com o número certinho de argumentos\n",
        "def boasVindas(nome, cargo):\n",
        "  print('Olá, '+ cargo + ' '+ nome)"
      ],
      "metadata": {
        "id": "zhJ_uNb8_ydJ"
      },
      "execution_count": null,
      "outputs": []
    },
    {
      "cell_type": "code",
      "source": [
        "boasVindas('Amaralina', 'Engenheira')\n",
        "boasVindas('Jorge', 'Carimbador')\n",
        "boasVindas('Maria', 'Sargento')\n",
        "#Experimente passar apenas um dos parâmetros\n",
        "boasVindas('Lucas')"
      ],
      "metadata": {
        "id": "ZCy4UykvAPs0"
      },
      "execution_count": null,
      "outputs": []
    },
    {
      "cell_type": "code",
      "source": [
        "#Argumentos arbitrários *args \n",
        "#Quando não se tem certeza quantos argumentos são passados pela função\n",
        "\n",
        "def mediaTotal(*notas):\n",
        "  soma = 0\n",
        "  for nota in notas:\n",
        "    soma += nota\n",
        "  media = soma/len(notas)\n",
        "  print('A média é: ', media)"
      ],
      "metadata": {
        "id": "822rPAOkAwm5"
      },
      "execution_count": 5,
      "outputs": []
    },
    {
      "cell_type": "code",
      "source": [
        "mediaTotal(8, 9, 9, 5, 10, 4)"
      ],
      "metadata": {
        "id": "iTO5L_azevjo"
      },
      "execution_count": null,
      "outputs": []
    },
    {
      "cell_type": "code",
      "source": [
        "#Valor de parâmetro padrão\n",
        "def nacionalidade(country = 'Cuba'):\n",
        "  print('Eu nasci em: '+ country)"
      ],
      "metadata": {
        "id": "ZjxHIuowf0lE"
      },
      "execution_count": 12,
      "outputs": []
    },
    {
      "cell_type": "code",
      "source": [
        "nacionalidade('Brasil')\n",
        "nacionalidade('França')\n",
        "nacionalidade('Vietnã')\n",
        "nacionalidade()"
      ],
      "metadata": {
        "id": "bOd1k3OHgJmt"
      },
      "execution_count": null,
      "outputs": []
    },
    {
      "cell_type": "markdown",
      "source": [
        "RETURN\n",
        "\n",
        "* Até este momento, as funções criadas apenas printam na tela o seu resultado. \n",
        "* Para utilizar utilizar os dados de uma função em outras partes do software, usa-se a palavra reservada return."
      ],
      "metadata": {
        "id": "g6r9RkphglXv"
      }
    },
    {
      "cell_type": "code",
      "source": [
        "def imc(peso, altura):\n",
        "  return peso/altura**2"
      ],
      "metadata": {
        "id": "t7INcxkQgmrE"
      },
      "execution_count": 15,
      "outputs": []
    },
    {
      "cell_type": "code",
      "source": [
        "def situacaoPeso(imc):\n",
        "  if(imc < 18.5):\n",
        "    print('Abaixo do peso normal')\n",
        "  elif(imc < 24.9):\n",
        "    print('Peso normal')\n",
        "  elif(imc < 29.9):\n",
        "    print('Excesso de peso')\n",
        "  elif(imc < 34.9):\n",
        "    print('Obesidade tipo I')\n",
        "  elif(imc < 39.9):\n",
        "    print('Obesidade tipo II')\n",
        "  else:\n",
        "    print('Obesidade tipo III')\n"
      ],
      "metadata": {
        "id": "D1xg6MQ3icqb"
      },
      "execution_count": 17,
      "outputs": []
    },
    {
      "cell_type": "code",
      "source": [
        "situacaoPeso(imc(83, 1.65))"
      ],
      "metadata": {
        "colab": {
          "base_uri": "https://localhost:8080/"
        },
        "id": "8vmmrGwciA3P",
        "outputId": "1e1b224e-545b-4615-b90b-3d451a65a3b6"
      },
      "execution_count": 20,
      "outputs": [
        {
          "output_type": "stream",
          "name": "stdout",
          "text": [
            "Obesidade tipo I\n"
          ]
        }
      ]
    }
  ]
}