{
  "nbformat": 4,
  "nbformat_minor": 0,
  "metadata": {
    "colab": {
      "provenance": [],
      "authorship_tag": "ABX9TyOIYI0CrE3k2/6nCfw1TcHB",
      "include_colab_link": true
    },
    "kernelspec": {
      "name": "python3",
      "display_name": "Python 3"
    },
    "language_info": {
      "name": "python"
    }
  },
  "cells": [
    {
      "cell_type": "markdown",
      "metadata": {
        "id": "view-in-github",
        "colab_type": "text"
      },
      "source": [
        "<a href=\"https://colab.research.google.com/github/ramonparaiba/Aulas-Logica-de-Programcao-e-Algoritmos/blob/main/POO_com_Python.ipynb\" target=\"_parent\"><img src=\"https://colab.research.google.com/assets/colab-badge.svg\" alt=\"Open In Colab\"/></a>"
      ]
    },
    {
      "cell_type": "code",
      "execution_count": 2,
      "metadata": {
        "id": "AB0Wj5qwf7K3"
      },
      "outputs": [],
      "source": [
        "class Rangos:\n",
        "  comida = 'Mortadela'"
      ]
    },
    {
      "cell_type": "code",
      "source": [
        "food = Rangos()  #food é uma instância de MyFirstClass\n",
        "food.comida"
      ],
      "metadata": {
        "colab": {
          "base_uri": "https://localhost:8080/",
          "height": 35
        },
        "id": "Jy1nYywziOg2",
        "outputId": "44bc30cb-d970-4ab7-fe90-d1837db6d8b4"
      },
      "execution_count": 4,
      "outputs": [
        {
          "output_type": "execute_result",
          "data": {
            "text/plain": [
              "'Mortadela'"
            ],
            "application/vnd.google.colaboratory.intrinsic+json": {
              "type": "string"
            }
          },
          "metadata": {},
          "execution_count": 4
        }
      ]
    },
    {
      "cell_type": "markdown",
      "source": [
        "# Métodos Mágicos (dunder methods)\n",
        "Métodos especiais em Python são métodos com nomes predefinidos que são usados para executar operações especiais em objetos Python. Eles são comumente conhecidos como \"métodos mágicos\" ou \"dunder methods\" (double underscore methods), pois seus nomes são precedidos e seguidos por dois caracteres de sublinhado."
      ],
      "metadata": {
        "id": "e5obGjZDbtbk"
      }
    },
    {
      "cell_type": "markdown",
      "source": [
        "`__init__`: Este é o método especial usado para inicializar objetos de uma classe. Ele é executado automaticamente sempre que um objeto é criado a partir da classe e é usado para definir os atributos iniciais do objeto."
      ],
      "metadata": {
        "id": "X09WrTI5iyjq"
      }
    },
    {
      "cell_type": "code",
      "source": [
        "class Person:\n",
        "  def __init__(self, name, age):\n",
        "    self.name = name\n",
        "    self.age = age"
      ],
      "metadata": {
        "id": "bDy8ih3Eixfh"
      },
      "execution_count": 5,
      "outputs": []
    },
    {
      "cell_type": "code",
      "source": [
        "pessoa1 = Person('João', 45) #Pessoa1 é um objeto. Uma instância da classe Person \n",
        "\n",
        "print(f'{pessoa1.name}, tem {pessoa1.age} anos de idade')"
      ],
      "metadata": {
        "colab": {
          "base_uri": "https://localhost:8080/"
        },
        "id": "FpDGp9DWixmN",
        "outputId": "78642da4-c36d-4c88-a13b-90867fb728ed"
      },
      "execution_count": 7,
      "outputs": [
        {
          "output_type": "stream",
          "name": "stdout",
          "text": [
            "João, tem 45 anos de idade\n"
          ]
        }
      ]
    },
    {
      "cell_type": "markdown",
      "source": [
        "`__str__`: Este método especial é usado para retornar uma representação em forma de string do objeto. Ele é frequentemente usado para fornecer informações úteis sobre o objeto ao usuário final."
      ],
      "metadata": {
        "id": "dRQC98Q-YaYS"
      }
    },
    {
      "cell_type": "code",
      "source": [
        "class Person:\n",
        "  def __init__(self, name, age):\n",
        "    self.name =name\n",
        "    self.age = age\n",
        "  \n",
        "  def __str__(self):\n",
        "    return f'{self.name}({self.age})'"
      ],
      "metadata": {
        "id": "jJLXBzszYvuL"
      },
      "execution_count": 1,
      "outputs": []
    },
    {
      "cell_type": "code",
      "source": [
        "pessoa = Person(\"Sebastião\", 47)\n",
        "\n",
        "print(pessoa)"
      ],
      "metadata": {
        "id": "VSqlTEwSZg9f"
      },
      "execution_count": null,
      "outputs": []
    },
    {
      "cell_type": "markdown",
      "source": [
        "`__eq__`: Este método especial é usado para comparar dois objetos para verificar se são iguais. Ele retorna True se os objetos são iguais e False caso contrário."
      ],
      "metadata": {
        "id": "Ko8X2Wjzb62f"
      }
    },
    {
      "cell_type": "code",
      "source": [
        "class Person:\n",
        "  def __init__(self, name, age):\n",
        "    self.name = name\n",
        "    self.age = age\n",
        "  \n",
        "  def __eq__(self, other):\n",
        "    return self.name==other.name and self.age == other.age"
      ],
      "metadata": {
        "id": "B63N8XXxb-1W"
      },
      "execution_count": 6,
      "outputs": []
    },
    {
      "cell_type": "code",
      "source": [
        "pessoa1 = Person('João', 25)\n",
        "pessoa2 = Person('Edgar', 30)\n",
        "pessoa3 = Person('João', 25)\n",
        "\n",
        "print(pessoa1 == pessoa2)\n",
        "print(pessoa1 == pessoa3)"
      ],
      "metadata": {
        "colab": {
          "base_uri": "https://localhost:8080/"
        },
        "id": "lFk7EPfdccCR",
        "outputId": "c26cc707-98da-423e-b5c1-f8c8866f9ae5"
      },
      "execution_count": 7,
      "outputs": [
        {
          "output_type": "stream",
          "name": "stdout",
          "text": [
            "False\n",
            "True\n"
          ]
        }
      ]
    }
  ]
}