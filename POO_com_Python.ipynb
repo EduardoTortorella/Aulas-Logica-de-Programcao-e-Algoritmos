{
  "nbformat": 4,
  "nbformat_minor": 0,
  "metadata": {
    "colab": {
      "provenance": [],
      "authorship_tag": "ABX9TyMHByDKUWwdhUl/3SfTc/n3",
      "include_colab_link": true
    },
    "kernelspec": {
      "name": "python3",
      "display_name": "Python 3"
    },
    "language_info": {
      "name": "python"
    }
  },
  "cells": [
    {
      "cell_type": "markdown",
      "metadata": {
        "id": "view-in-github",
        "colab_type": "text"
      },
      "source": [
        "<a href=\"https://colab.research.google.com/github/ramonparaiba/Aulas-Logica-de-Programcao-e-Algoritmos/blob/main/POO_com_Python.ipynb\" target=\"_parent\"><img src=\"https://colab.research.google.com/assets/colab-badge.svg\" alt=\"Open In Colab\"/></a>"
      ]
    },
    {
      "cell_type": "code",
      "execution_count": 2,
      "metadata": {
        "id": "AB0Wj5qwf7K3"
      },
      "outputs": [],
      "source": [
        "class Rangos:\n",
        "  comida = 'Mortadela'"
      ]
    },
    {
      "cell_type": "code",
      "source": [
        "food = Rangos()  #food é uma instância de MyFirstClass\n",
        "food.comida"
      ],
      "metadata": {
        "colab": {
          "base_uri": "https://localhost:8080/",
          "height": 35
        },
        "id": "Jy1nYywziOg2",
        "outputId": "44bc30cb-d970-4ab7-fe90-d1837db6d8b4"
      },
      "execution_count": 4,
      "outputs": [
        {
          "output_type": "execute_result",
          "data": {
            "text/plain": [
              "'Mortadela'"
            ],
            "application/vnd.google.colaboratory.intrinsic+json": {
              "type": "string"
            }
          },
          "metadata": {},
          "execution_count": 4
        }
      ]
    },
    {
      "cell_type": "markdown",
      "source": [
        "# Métodos Mágicos (dunder methods)\n",
        "Métodos especiais em Python são métodos com nomes predefinidos que são usados para executar operações especiais em objetos Python. Eles são comumente conhecidos como \"métodos mágicos\" ou \"dunder methods\" (double underscore methods), pois seus nomes são precedidos e seguidos por dois caracteres de sublinhado."
      ],
      "metadata": {
        "id": "e5obGjZDbtbk"
      }
    },
    {
      "cell_type": "markdown",
      "source": [
        "`__init__`: Este é o método especial usado para inicializar objetos de uma classe. Ele é executado automaticamente sempre que um objeto é criado a partir da classe e é usado para definir os atributos iniciais do objeto."
      ],
      "metadata": {
        "id": "X09WrTI5iyjq"
      }
    },
    {
      "cell_type": "code",
      "source": [
        "class Person:\n",
        "  def __init__(self, name, age):\n",
        "    self.name = name\n",
        "    self.age = age"
      ],
      "metadata": {
        "id": "bDy8ih3Eixfh"
      },
      "execution_count": 5,
      "outputs": []
    },
    {
      "cell_type": "code",
      "source": [
        "pessoa1 = Person('João', 45) #Pessoa1 é um objeto. Uma instância da classe Person \n",
        "\n",
        "print(f'{pessoa1.name}, tem {pessoa1.age} anos de idade')"
      ],
      "metadata": {
        "colab": {
          "base_uri": "https://localhost:8080/"
        },
        "id": "FpDGp9DWixmN",
        "outputId": "78642da4-c36d-4c88-a13b-90867fb728ed"
      },
      "execution_count": 7,
      "outputs": [
        {
          "output_type": "stream",
          "name": "stdout",
          "text": [
            "João, tem 45 anos de idade\n"
          ]
        }
      ]
    },
    {
      "cell_type": "markdown",
      "source": [
        "`__str__`: Este método especial é usado para retornar uma representação em forma de string do objeto. Ele é frequentemente usado para fornecer informações úteis sobre o objeto ao usuário final."
      ],
      "metadata": {
        "id": "dRQC98Q-YaYS"
      }
    },
    {
      "cell_type": "code",
      "source": [
        "class Person:\n",
        "  def __init__(self, name, age):\n",
        "    self.name =name\n",
        "    self.age = age\n",
        "  \n",
        "  def __str__(self):\n",
        "    return f'{self.name}({self.age})'"
      ],
      "metadata": {
        "id": "jJLXBzszYvuL"
      },
      "execution_count": 1,
      "outputs": []
    },
    {
      "cell_type": "code",
      "source": [
        "pessoa = Person(\"Sebastião\", 47)\n",
        "\n",
        "print(pessoa)"
      ],
      "metadata": {
        "id": "VSqlTEwSZg9f"
      },
      "execution_count": null,
      "outputs": []
    },
    {
      "cell_type": "markdown",
      "source": [
        "`__eq__`: Este método especial é usado para comparar dois objetos para verificar se são iguais. Ele retorna True se os objetos são iguais e False caso contrário."
      ],
      "metadata": {
        "id": "Ko8X2Wjzb62f"
      }
    },
    {
      "cell_type": "code",
      "source": [
        "class Person:\n",
        "  def __init__(self, name, age):\n",
        "    self.name = name\n",
        "    self.age = age\n",
        "  \n",
        "  def __eq__(self, other):\n",
        "    return self.name==other.name and self.age == other.age"
      ],
      "metadata": {
        "id": "B63N8XXxb-1W"
      },
      "execution_count": 6,
      "outputs": []
    },
    {
      "cell_type": "code",
      "source": [
        "pessoa1 = Person('João', 25)\n",
        "pessoa2 = Person('Edgar', 30)\n",
        "pessoa3 = Person('João', 25)\n",
        "\n",
        "print(pessoa1 == pessoa2)\n",
        "print(pessoa1 == pessoa3)"
      ],
      "metadata": {
        "colab": {
          "base_uri": "https://localhost:8080/"
        },
        "id": "lFk7EPfdccCR",
        "outputId": "c26cc707-98da-423e-b5c1-f8c8866f9ae5"
      },
      "execution_count": 7,
      "outputs": [
        {
          "output_type": "stream",
          "name": "stdout",
          "text": [
            "False\n",
            "True\n"
          ]
        }
      ]
    },
    {
      "cell_type": "markdown",
      "source": [
        "`__len__`: Este método especial é usado para retornar o comprimento de um objeto. Ele é usado com objetos que têm uma representação de tamanho, como strings, listas e dicionários."
      ],
      "metadata": {
        "id": "Y8XXN_7tdk79"
      }
    },
    {
      "cell_type": "code",
      "source": [
        "class MinhaLista:\n",
        "  def __init__(self, itens):\n",
        "    self.itens = itens\n",
        "  def __len__(self):\n",
        "    return len(self.itens)"
      ],
      "metadata": {
        "id": "e1HJ0x4Ddq35"
      },
      "execution_count": 8,
      "outputs": []
    },
    {
      "cell_type": "code",
      "source": [
        "minha_lista = MinhaLista([2, 3, 4, 6, 33, 56])\n",
        "\n",
        "print(len(minha_lista))"
      ],
      "metadata": {
        "colab": {
          "base_uri": "https://localhost:8080/"
        },
        "id": "k4EEbLvEeDvQ",
        "outputId": "51de6990-a60f-473e-afca-2d69d378d93d"
      },
      "execution_count": 9,
      "outputs": [
        {
          "output_type": "stream",
          "name": "stdout",
          "text": [
            "6\n"
          ]
        }
      ]
    },
    {
      "cell_type": "markdown",
      "source": [
        "`__getitem__`: Este método especial é usado para obter um item de um objeto usando a sintaxe de índice. Ele é usado com objetos que suportam acesso por índice, como listas, tuplas e dicionários."
      ],
      "metadata": {
        "id": "BI7bemuWeYdS"
      }
    },
    {
      "cell_type": "code",
      "source": [
        "class MyList:\n",
        "  def __init__(self, itens):\n",
        "    self.itens = itens\n",
        "  \n",
        "  def __getitem__(self, index):\n",
        "    return self.itens[index]"
      ],
      "metadata": {
        "id": "eXVJ4bE9edV_"
      },
      "execution_count": 21,
      "outputs": []
    },
    {
      "cell_type": "code",
      "source": [
        "minhaLista = MyList([23, 4, 5, 2, 7, 12, 8])\n",
        "\n",
        "print(minhaLista[2])\n",
        "print(minhaLista.itens)"
      ],
      "metadata": {
        "colab": {
          "base_uri": "https://localhost:8080/"
        },
        "id": "y9UV6Ycaeznp",
        "outputId": "ede30d9b-4775-4c09-f148-4c6183b7a604"
      },
      "execution_count": 22,
      "outputs": [
        {
          "output_type": "stream",
          "name": "stdout",
          "text": [
            "5\n",
            "[23, 4, 5, 2, 7, 12, 8]\n"
          ]
        }
      ]
    },
    {
      "cell_type": "markdown",
      "source": [
        "`__setitem__`: Este método especial é usado para definir um item de um objeto usando a sintaxe de índice. Ele é usado com objetos que suportam acesso por índice e modificação, como listas e dicionários."
      ],
      "metadata": {
        "id": "1vXCUYxMfmy5"
      }
    },
    {
      "cell_type": "code",
      "source": [
        "class MyList:\n",
        "  def __init__(self, elements):\n",
        "    self.elements = elements\n",
        "  \n",
        "  def __setitem__(self, index, value):\n",
        "    self.elements[index] = value"
      ],
      "metadata": {
        "id": "qn7Rydp0fpD6"
      },
      "execution_count": 23,
      "outputs": []
    },
    {
      "cell_type": "code",
      "source": [
        "minhaLista = MyList([2,4, 5, 7, 88, 12])\n",
        "\n",
        "minhaLista[3]=1000\n",
        "print(minhaLista.elements)"
      ],
      "metadata": {
        "colab": {
          "base_uri": "https://localhost:8080/"
        },
        "id": "954ns8Quf_RB",
        "outputId": "05e3a70a-3a1b-44fc-d97a-7e3bf9dc987b"
      },
      "execution_count": 24,
      "outputs": [
        {
          "output_type": "stream",
          "name": "stdout",
          "text": [
            "[2, 4, 5, 1000, 88, 12]\n"
          ]
        }
      ]
    }
  ]
}